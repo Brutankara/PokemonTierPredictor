{
 "cells": [
  {
   "cell_type": "code",
   "execution_count": 778,
   "id": "ac2d17af",
   "metadata": {},
   "outputs": [],
   "source": [
    "import numpy as np\n",
    "import pandas as pd\n",
    "import math\n",
    "import matplotlib.pyplot as plt\n",
    "from sklearn import preprocessing"
   ]
  },
  {
   "cell_type": "code",
   "execution_count": 779,
   "id": "f2edecd3",
   "metadata": {},
   "outputs": [],
   "source": [
    "columns = ['Tier','Type 1','Type 2','HP','Attack','Defense','Special Attack','Special Defense','Speed']"
   ]
  },
  {
   "cell_type": "code",
   "execution_count": 776,
   "id": "ffb05af1",
   "metadata": {},
   "outputs": [
    {
     "name": "stdout",
     "output_type": "stream",
     "text": [
      "814\n",
      "814\n"
     ]
    }
   ],
   "source": [
    "df = pd.read_csv('pokemon-data - pokemon-data.csv')\n",
    "\n",
    "#LETS DESTROY NaN values from Tier\n",
    "print(len(df[:]))\n",
    "df.dropna(subset = [\"Tier\"], inplace=True)\n",
    "print(len(df[:]))\n",
    "\n",
    "#Now its fine :)\n",
    "df = df.reset_index(drop=True)\n",
    "df.to_csv('pokemon-data - pokemon-data.csv'\n",
    "                          ,index=False)"
   ]
  },
  {
   "cell_type": "code",
   "execution_count": 777,
   "id": "a15942ad",
   "metadata": {},
   "outputs": [
    {
     "data": {
      "text/html": [
       "<div>\n",
       "<style scoped>\n",
       "    .dataframe tbody tr th:only-of-type {\n",
       "        vertical-align: middle;\n",
       "    }\n",
       "\n",
       "    .dataframe tbody tr th {\n",
       "        vertical-align: top;\n",
       "    }\n",
       "\n",
       "    .dataframe thead th {\n",
       "        text-align: right;\n",
       "    }\n",
       "</style>\n",
       "<table border=\"1\" class=\"dataframe\">\n",
       "  <thead>\n",
       "    <tr style=\"text-align: right;\">\n",
       "      <th></th>\n",
       "      <th>Tier</th>\n",
       "      <th>Type 1</th>\n",
       "      <th>Type 2</th>\n",
       "      <th>HP</th>\n",
       "      <th>Attack</th>\n",
       "      <th>Defense</th>\n",
       "      <th>Special Attack</th>\n",
       "      <th>Special Defense</th>\n",
       "      <th>Speed</th>\n",
       "    </tr>\n",
       "  </thead>\n",
       "  <tbody>\n",
       "    <tr>\n",
       "      <th>0</th>\n",
       "      <td>PU</td>\n",
       "      <td>Grass</td>\n",
       "      <td>Ice</td>\n",
       "      <td>90</td>\n",
       "      <td>92</td>\n",
       "      <td>75</td>\n",
       "      <td>92</td>\n",
       "      <td>85</td>\n",
       "      <td>60</td>\n",
       "    </tr>\n",
       "    <tr>\n",
       "      <th>1</th>\n",
       "      <td>NU</td>\n",
       "      <td>Grass</td>\n",
       "      <td>Ice</td>\n",
       "      <td>90</td>\n",
       "      <td>132</td>\n",
       "      <td>105</td>\n",
       "      <td>132</td>\n",
       "      <td>105</td>\n",
       "      <td>30</td>\n",
       "    </tr>\n",
       "    <tr>\n",
       "      <th>2</th>\n",
       "      <td>LC</td>\n",
       "      <td>Psychic</td>\n",
       "      <td>NOT2</td>\n",
       "      <td>25</td>\n",
       "      <td>20</td>\n",
       "      <td>15</td>\n",
       "      <td>105</td>\n",
       "      <td>55</td>\n",
       "      <td>90</td>\n",
       "    </tr>\n",
       "    <tr>\n",
       "      <th>3</th>\n",
       "      <td>PU</td>\n",
       "      <td>Dark</td>\n",
       "      <td>NOT2</td>\n",
       "      <td>65</td>\n",
       "      <td>130</td>\n",
       "      <td>60</td>\n",
       "      <td>75</td>\n",
       "      <td>60</td>\n",
       "      <td>75</td>\n",
       "    </tr>\n",
       "    <tr>\n",
       "      <th>4</th>\n",
       "      <td>RU</td>\n",
       "      <td>Dark</td>\n",
       "      <td>NOT2</td>\n",
       "      <td>65</td>\n",
       "      <td>150</td>\n",
       "      <td>60</td>\n",
       "      <td>115</td>\n",
       "      <td>60</td>\n",
       "      <td>115</td>\n",
       "    </tr>\n",
       "  </tbody>\n",
       "</table>\n",
       "</div>"
      ],
      "text/plain": [
       "  Tier   Type 1 Type 2  HP  Attack  Defense  Special Attack  Special Defense  \\\n",
       "0   PU    Grass    Ice  90      92       75              92               85   \n",
       "1   NU    Grass    Ice  90     132      105             132              105   \n",
       "2   LC  Psychic   NOT2  25      20       15             105               55   \n",
       "3   PU     Dark   NOT2  65     130       60              75               60   \n",
       "4   RU     Dark   NOT2  65     150       60             115               60   \n",
       "\n",
       "   Speed  \n",
       "0     60  \n",
       "1     30  \n",
       "2     90  \n",
       "3     75  \n",
       "4    115  "
      ]
     },
     "execution_count": 777,
     "metadata": {},
     "output_type": "execute_result"
    }
   ],
   "source": [
    "#No names pls\n",
    "df = df.iloc[:, 1:]\n",
    "df.head()"
   ]
  },
  {
   "cell_type": "code",
   "execution_count": 744,
   "id": "e6b39dd2",
   "metadata": {},
   "outputs": [
    {
     "data": {
      "text/plain": [
       "LC      265\n",
       "PU      230\n",
       "UU       75\n",
       "RU       73\n",
       "NU       69\n",
       "OU       55\n",
       "Uber     47\n",
       "Name: Tier, dtype: int64"
      ]
     },
     "execution_count": 744,
     "metadata": {},
     "output_type": "execute_result"
    }
   ],
   "source": [
    "df['Tier'].value_counts()"
   ]
  },
  {
   "cell_type": "code",
   "execution_count": 745,
   "id": "25487114",
   "metadata": {},
   "outputs": [],
   "source": [
    "#OH NO, MY VALUES ARE NOT NUMERIC :C\n",
    "from collections import defaultdict\n",
    "d = defaultdict(preprocessing.LabelEncoder)"
   ]
  },
  {
   "cell_type": "code",
   "execution_count": 780,
   "id": "d3813e38",
   "metadata": {},
   "outputs": [],
   "source": [
    "# NUMBERSSSS, YEAH\n",
    "df = df.apply(lambda x: d[x.name].fit_transform(x))"
   ]
  },
  {
   "cell_type": "code",
   "execution_count": 747,
   "id": "052e4f6a",
   "metadata": {},
   "outputs": [
    {
     "data": {
      "text/html": [
       "<div>\n",
       "<style scoped>\n",
       "    .dataframe tbody tr th:only-of-type {\n",
       "        vertical-align: middle;\n",
       "    }\n",
       "\n",
       "    .dataframe tbody tr th {\n",
       "        vertical-align: top;\n",
       "    }\n",
       "\n",
       "    .dataframe thead th {\n",
       "        text-align: right;\n",
       "    }\n",
       "</style>\n",
       "<table border=\"1\" class=\"dataframe\">\n",
       "  <thead>\n",
       "    <tr style=\"text-align: right;\">\n",
       "      <th></th>\n",
       "      <th>Tier</th>\n",
       "      <th>Type 1</th>\n",
       "      <th>Type 2</th>\n",
       "      <th>HP</th>\n",
       "      <th>Attack</th>\n",
       "      <th>Defense</th>\n",
       "      <th>Special Attack</th>\n",
       "      <th>Special Defense</th>\n",
       "      <th>Speed</th>\n",
       "    </tr>\n",
       "  </thead>\n",
       "  <tbody>\n",
       "    <tr>\n",
       "      <th>0</th>\n",
       "      <td>3</td>\n",
       "      <td>9</td>\n",
       "      <td>11</td>\n",
       "      <td>61</td>\n",
       "      <td>66</td>\n",
       "      <td>50</td>\n",
       "      <td>65</td>\n",
       "      <td>55</td>\n",
       "      <td>40</td>\n",
       "    </tr>\n",
       "    <tr>\n",
       "      <th>1</th>\n",
       "      <td>1</td>\n",
       "      <td>9</td>\n",
       "      <td>11</td>\n",
       "      <td>61</td>\n",
       "      <td>96</td>\n",
       "      <td>74</td>\n",
       "      <td>96</td>\n",
       "      <td>72</td>\n",
       "      <td>12</td>\n",
       "    </tr>\n",
       "    <tr>\n",
       "      <th>2</th>\n",
       "      <td>0</td>\n",
       "      <td>14</td>\n",
       "      <td>12</td>\n",
       "      <td>3</td>\n",
       "      <td>3</td>\n",
       "      <td>2</td>\n",
       "      <td>75</td>\n",
       "      <td>28</td>\n",
       "      <td>70</td>\n",
       "    </tr>\n",
       "    <tr>\n",
       "      <th>3</th>\n",
       "      <td>3</td>\n",
       "      <td>1</td>\n",
       "      <td>12</td>\n",
       "      <td>37</td>\n",
       "      <td>94</td>\n",
       "      <td>35</td>\n",
       "      <td>51</td>\n",
       "      <td>33</td>\n",
       "      <td>55</td>\n",
       "    </tr>\n",
       "    <tr>\n",
       "      <th>4</th>\n",
       "      <td>4</td>\n",
       "      <td>1</td>\n",
       "      <td>12</td>\n",
       "      <td>37</td>\n",
       "      <td>105</td>\n",
       "      <td>35</td>\n",
       "      <td>85</td>\n",
       "      <td>33</td>\n",
       "      <td>93</td>\n",
       "    </tr>\n",
       "  </tbody>\n",
       "</table>\n",
       "</div>"
      ],
      "text/plain": [
       "   Tier  Type 1  Type 2  HP  Attack  Defense  Special Attack  Special Defense  \\\n",
       "0     3       9      11  61      66       50              65               55   \n",
       "1     1       9      11  61      96       74              96               72   \n",
       "2     0      14      12   3       3        2              75               28   \n",
       "3     3       1      12  37      94       35              51               33   \n",
       "4     4       1      12  37     105       35              85               33   \n",
       "\n",
       "   Speed  \n",
       "0     40  \n",
       "1     12  \n",
       "2     70  \n",
       "3     55  \n",
       "4     93  "
      ]
     },
     "execution_count": 747,
     "metadata": {},
     "output_type": "execute_result"
    }
   ],
   "source": [
    "df.head()"
   ]
  },
  {
   "cell_type": "code",
   "execution_count": 748,
   "id": "a8cd1750",
   "metadata": {},
   "outputs": [
    {
     "data": {
      "text/plain": [
       "dict_keys(['Tier', 'Type 1', 'Type 2', 'HP', 'Attack', 'Defense', 'Special Attack', 'Special Defense', 'Speed'])"
      ]
     },
     "execution_count": 748,
     "metadata": {},
     "output_type": "execute_result"
    }
   ],
   "source": [
    "d.keys()"
   ]
  },
  {
   "cell_type": "code",
   "execution_count": 781,
   "id": "70952fb1",
   "metadata": {},
   "outputs": [
    {
     "name": "stdout",
     "output_type": "stream",
     "text": [
      "Tier ['LC' 'NU' 'OU' 'PU' 'RU' 'UU' 'Uber']\n",
      "Type 1 ['Bug' 'Dark' 'Dragon' 'Electric' 'Fairy' 'Fighting' 'Fire' 'Flying'\n",
      " 'Ghost' 'Grass' 'Ground' 'Ice' 'Normal' 'Poison' 'Psychic' 'Rock' 'Steel'\n",
      " 'Water']\n",
      "Type 2 ['Bug' 'Dark' 'Dragon' 'Electric' 'Fairy' 'Fighting' 'Fire' 'Flying'\n",
      " 'Ghost' 'Grass' 'Ground' 'Ice' 'NOT2' 'Normal' 'Poison' 'Psychic' 'Rock'\n",
      " 'Steel' 'Water']\n",
      "HP [  1  10  20  25  28  30  31  35  36  37  38  39  40  41  42  43  44  45\n",
      "  46  47  48  49  50  51  52  53  54  55  56  57  58  59  60  61  62  63\n",
      "  64  65  66  67  68  69  70  71  72  73  74  75  76  77  78  79  80  81\n",
      "  82  83  84  85  86  88  89  90  91  92  95  97  99 100 101 103 104 105\n",
      " 106 107 108 109 110 111 114 115 116 120 123 125 126 130 135 137 140 144\n",
      " 150 160 165 170 190 216 223 250 255]\n",
      "Attack [  5  10  15  20  23  24  25  27  29  30  33  35  36  38  40  41  42  43\n",
      "  44  45  46  47  48  49  50  51  52  53  54  55  56  57  58  59  60  61\n",
      "  62  63  64  65  66  67  68  69  70  71  72  73  74  75  76  77  78  79\n",
      "  80  81  82  83  84  85  86  87  88  89  90  91  92  93  94  95  97  98\n",
      " 100 101 102 103 104 105 106 107 108 109 110 112 113 115 117 120 121 123\n",
      " 124 125 128 129 130 131 132 134 135 136 137 139 140 145 147 150 155 157\n",
      " 160 164 165 167 170 180 181 185 190]\n",
      "Defense [  5  10  15  20  23  25  28  30  31  32  33  34  35  37  38  39  40  41\n",
      "  42  43  44  45  47  48  49  50  51  52  53  54  55  56  57  58  59  60\n",
      "  61  62  63  64  65  66  67  68  69  70  71  72  73  74  75  76  77  78\n",
      "  79  80  82  83  84  85  86  87  88  89  90  91  94  95  97  98 100 101\n",
      " 102 103 105 106 107 108 109 110 111 112 115 116 118 119 120 121 122 123\n",
      " 125 126 127 129 130 131 133 135 139 140 145 150 152 160 168 180 184 200\n",
      " 211 230]\n",
      "Special Attack [ 10  15  20  23  24  25  27  29  30  31  32  33  35  36  37  38  39  40\n",
      "  41  42  43  44  45  46  47  48  49  50  51  53  54  55  56  57  58  59\n",
      "  60  61  62  63  64  65  66  67  68  69  70  71  72  73  74  75  76  77\n",
      "  79  80  81  82  83  85  86  87  88  90  91  92  93  94  95  97  98  99\n",
      " 100 103 104 105 106 107 108 109 110 111 112 113 114 115 116 120 122 125\n",
      " 126 127 128 129 130 131 132 135 137 140 145 150 153 154 157 159 160 165\n",
      " 167 170 173 175 180 194]\n",
      "Special Defense [ 20  23  25  30  31  32  33  34  35  36  37  38  39  40  41  42  43  44\n",
      "  45  46  47  48  49  50  51  52  53  54  55  56  57  58  59  60  61  62\n",
      "  63  64  65  66  67  69  70  71  72  73  75  76  77  78  79  80  81  82\n",
      "  83  85  86  87  88  89  90  91  92  94  95  96  97  98  99 100 101 102\n",
      " 105 106 107 108 109 110 115 116 120 123 125 126 127 128 129 130 131 135\n",
      " 138 140 142 150 154 160 200 230]\n",
      "Speed [  5  10  13  15  20  22  23  24  25  27  28  29  30  31  32  33  34  35\n",
      "  36  37  38  39  40  41  42  43  44  45  46  47  48  50  51  52  54  55\n",
      "  56  57  58  59  60  61  62  63  64  65  66  67  68  69  70  71  72  73\n",
      "  74  75  76  77  78  79  80  81  82  83  84  85  86  87  88  89  90  91\n",
      "  92  93  95  96  97  98  99 100 101 102 103 104 105 106 108 109 110 111\n",
      " 112 113 114 115 116 117 118 120 121 122 123 124 125 126 127 128 129 130\n",
      " 132 135 140 145 150 151 160 180]\n"
     ]
    }
   ],
   "source": [
    "#All keys\n",
    "for key in d.keys():\n",
    "    print(key, d[key].classes_)"
   ]
  },
  {
   "cell_type": "code",
   "execution_count": 750,
   "id": "cf6dc61e",
   "metadata": {},
   "outputs": [],
   "source": [
    "#NOW SAVE IT\n",
    "df.to_csv('pokemon-data-encoded.csv'\n",
    "                          ,index=False)"
   ]
  },
  {
   "cell_type": "code",
   "execution_count": 783,
   "id": "135df847",
   "metadata": {},
   "outputs": [],
   "source": [
    "# I LOVE RANDOMNESS\n",
    "# Training = 70% of the data\n",
    "# Validation = 30% of the data\n",
    "# Randomize the dataset\n",
    "\n",
    "np.random.seed(5)\n",
    "l = list(df.index)\n",
    "np.random.shuffle(l)\n",
    "df = df.iloc[l]"
   ]
  },
  {
   "cell_type": "code",
   "execution_count": 784,
   "id": "24fbd902",
   "metadata": {},
   "outputs": [],
   "source": [
    "rows = df.shape[0]\n",
    "train = int(.7 * rows)\n",
    "test = rows - train"
   ]
  },
  {
   "cell_type": "code",
   "execution_count": 753,
   "id": "78413d97",
   "metadata": {},
   "outputs": [],
   "source": [
    "# Write Training Set\n",
    "df[:train].to_csv('pokemon_train.csv'\n",
    "                          ,index=False,index_label='Row',header=False\n",
    "                          ,columns=columns)"
   ]
  },
  {
   "cell_type": "code",
   "execution_count": 754,
   "id": "d4ff2a6e",
   "metadata": {},
   "outputs": [],
   "source": [
    "# Write Validation Set\n",
    "df[train:].to_csv('pokemon_validation.csv'\n",
    "                          ,index=False,index_label='Row',header=False\n",
    "                          ,columns=columns)"
   ]
  },
  {
   "cell_type": "code",
   "execution_count": 755,
   "id": "6b1fc3b8",
   "metadata": {},
   "outputs": [],
   "source": [
    "# Write Column List\n",
    "with open('pokemon_train_column_list.txt','w') as f:\n",
    "    f.write(','.join(columns))"
   ]
  },
  {
   "cell_type": "code",
   "execution_count": 756,
   "id": "5820c04f",
   "metadata": {},
   "outputs": [],
   "source": [
    "############################################## Train #########################################################\n",
    "\n",
    "# Install xgboost in notebook instance.\n",
    "#### Command to install xgboost\n",
    "#!pip install xgboost==1.2"
   ]
  },
  {
   "cell_type": "code",
   "execution_count": 757,
   "id": "1c07a627",
   "metadata": {},
   "outputs": [],
   "source": [
    "import sys\n",
    "import numpy as np\n",
    "import pandas as pd\n",
    "import matplotlib.pyplot as plt\n",
    "import itertools\n",
    "\n",
    "import xgboost as xgb\n",
    "from sklearn.metrics import classification_report, confusion_matrix"
   ]
  },
  {
   "cell_type": "code",
   "execution_count": 758,
   "id": "e35f2ebc",
   "metadata": {},
   "outputs": [],
   "source": [
    "column_list_file = 'pokemon_train_column_list.txt'\n",
    "train_file = 'pokemon_train.csv'\n",
    "validation_file = 'pokemon_validation.csv'\n",
    "\n",
    "columns = ''\n",
    "with open(column_list_file,'r') as f:\n",
    "    columns = f.read().split(',')"
   ]
  },
  {
   "cell_type": "code",
   "execution_count": 759,
   "id": "b55f15bd",
   "metadata": {},
   "outputs": [],
   "source": [
    "# Specify the column names as the file does not have column header\n",
    "df_train = df[:train]\n",
    "df_validation = df[train:]"
   ]
  },
  {
   "cell_type": "code",
   "execution_count": 785,
   "id": "65bc87a6",
   "metadata": {},
   "outputs": [
    {
     "name": "stdout",
     "output_type": "stream",
     "text": [
      "Tier\n",
      "7\n",
      "7\n",
      "Type 1\n",
      "18\n",
      "18\n",
      "Type 2\n",
      "19\n",
      "18\n",
      "HP\n",
      "91\n",
      "60\n",
      "Attack\n",
      "105\n",
      "77\n",
      "Defense\n",
      "101\n",
      "68\n",
      "Special Attack\n",
      "97\n",
      "75\n",
      "Special Defense\n",
      "87\n",
      "62\n",
      "Speed\n",
      "100\n",
      "76\n"
     ]
    }
   ],
   "source": [
    "#The randomness is random, so the dataset also is. So check if the first number is bigger than the second (it can also throw errors)\n",
    "for key in columns:\n",
    "    print(key)\n",
    "    print(len(df_train[key].value_counts()))\n",
    "    print(len(df_validation[key].value_counts()))\n"
   ]
  },
  {
   "cell_type": "code",
   "execution_count": 761,
   "id": "c984ac4c",
   "metadata": {},
   "outputs": [],
   "source": [
    "# You need a classifier (multi:softmax)\n",
    "classifier = xgb.XGBClassifier(objective=\"multi:softmax\",\n",
    "                               num_class=7,\n",
    "                               n_estimators=100)"
   ]
  },
  {
   "cell_type": "code",
   "execution_count": 762,
   "id": "aa40f8f7",
   "metadata": {},
   "outputs": [],
   "source": [
    "X_train = df_train.iloc[:,1:] # Features: 1st column onwards \n",
    "y_train = df_train.iloc[:,0].ravel() # Target: 0th column\n",
    "\n",
    "X_validation = df_validation.iloc[:,1:]\n",
    "y_validation = df_validation.iloc[:,0].ravel()"
   ]
  },
  {
   "cell_type": "code",
   "execution_count": 763,
   "id": "513ed95e",
   "metadata": {},
   "outputs": [
    {
     "name": "stdout",
     "output_type": "stream",
     "text": [
      "[0]\tvalidation_0-mlogloss:1.44078\tvalidation_1-mlogloss:1.63271\n",
      "Multiple eval metrics have been passed: 'validation_1-mlogloss' will be used for early stopping.\n",
      "\n",
      "Will train until validation_1-mlogloss hasn't improved in 10 rounds.\n",
      "[1]\tvalidation_0-mlogloss:1.16190\tvalidation_1-mlogloss:1.48835\n",
      "[2]\tvalidation_0-mlogloss:0.96703\tvalidation_1-mlogloss:1.41216\n",
      "[3]\tvalidation_0-mlogloss:0.83207\tvalidation_1-mlogloss:1.36249\n",
      "[4]\tvalidation_0-mlogloss:0.72142\tvalidation_1-mlogloss:1.33036\n",
      "[5]\tvalidation_0-mlogloss:0.63250\tvalidation_1-mlogloss:1.31382\n",
      "[6]\tvalidation_0-mlogloss:0.56445\tvalidation_1-mlogloss:1.30227\n",
      "[7]\tvalidation_0-mlogloss:0.50857\tvalidation_1-mlogloss:1.29365\n",
      "[8]\tvalidation_0-mlogloss:0.45754\tvalidation_1-mlogloss:1.28275\n",
      "[9]\tvalidation_0-mlogloss:0.41317\tvalidation_1-mlogloss:1.27345\n",
      "[10]\tvalidation_0-mlogloss:0.37109\tvalidation_1-mlogloss:1.27696\n",
      "[11]\tvalidation_0-mlogloss:0.33871\tvalidation_1-mlogloss:1.27812\n",
      "[12]\tvalidation_0-mlogloss:0.30704\tvalidation_1-mlogloss:1.29071\n",
      "[13]\tvalidation_0-mlogloss:0.28326\tvalidation_1-mlogloss:1.29776\n",
      "[14]\tvalidation_0-mlogloss:0.26713\tvalidation_1-mlogloss:1.30055\n",
      "[15]\tvalidation_0-mlogloss:0.24281\tvalidation_1-mlogloss:1.31551\n",
      "[16]\tvalidation_0-mlogloss:0.22699\tvalidation_1-mlogloss:1.31797\n",
      "[17]\tvalidation_0-mlogloss:0.20986\tvalidation_1-mlogloss:1.32590\n",
      "[18]\tvalidation_0-mlogloss:0.19443\tvalidation_1-mlogloss:1.33615\n",
      "[19]\tvalidation_0-mlogloss:0.18134\tvalidation_1-mlogloss:1.34523\n",
      "Stopping. Best iteration:\n",
      "[9]\tvalidation_0-mlogloss:0.41317\tvalidation_1-mlogloss:1.27345\n",
      "\n"
     ]
    },
    {
     "data": {
      "text/plain": [
       "XGBClassifier(base_score=0.5, booster='gbtree', colsample_bylevel=1,\n",
       "              colsample_bynode=1, colsample_bytree=1, gamma=0, gpu_id=-1,\n",
       "              importance_type='gain', interaction_constraints='',\n",
       "              learning_rate=0.300000012, max_delta_step=0, max_depth=6,\n",
       "              min_child_weight=1, missing=nan, monotone_constraints='()',\n",
       "              n_estimators=100, n_jobs=0, num_class=7, num_parallel_tree=1,\n",
       "              objective='multi:softprob', random_state=0, reg_alpha=0,\n",
       "              reg_lambda=1, scale_pos_weight=None, subsample=1,\n",
       "              tree_method='exact', validate_parameters=1, verbosity=None)"
      ]
     },
     "execution_count": 763,
     "metadata": {},
     "output_type": "execute_result"
    }
   ],
   "source": [
    "#This can throw errors if the random dataset is not enough good\n",
    "classifier.fit(X_train,\n",
    "               y_train,\n",
    "               eval_set = [(X_train, y_train), (X_validation, y_validation)],\n",
    "               eval_metric=['mlogloss'],\n",
    "               early_stopping_rounds=10)\n"
   ]
  },
  {
   "cell_type": "code",
   "execution_count": 764,
   "id": "1ad34a6c",
   "metadata": {},
   "outputs": [],
   "source": [
    "# So, is it good?\n",
    "eval_result = classifier.evals_result()"
   ]
  },
  {
   "cell_type": "code",
   "execution_count": 765,
   "id": "92e4bbe2",
   "metadata": {},
   "outputs": [
    {
     "data": {
      "image/png": "[encoded data removed]",
      "text/plain": [
       "<Figure size 432x288 with 1 Axes>"
      ]
     },
     "metadata": {
      "needs_background": "light"
     },
     "output_type": "display_data"
    }
   ],
   "source": [
    "#LETS SEEEE\n",
    "training_rounds = range(len(eval_result['validation_0']['mlogloss']))\n",
    "\n",
    "plt.scatter(x=training_rounds,y=eval_result['validation_0']['mlogloss'],label='Training Error')\n",
    "plt.scatter(x=training_rounds,y=eval_result['validation_1']['mlogloss'],label='Validation Error')\n",
    "plt.grid(True)\n",
    "plt.xlabel('Iteration')\n",
    "plt.ylabel('LogLoss')\n",
    "plt.title('Training Vs Validation Error')\n",
    "plt.legend()\n",
    "plt.show()"
   ]
  },
  {
   "cell_type": "code",
   "execution_count": 775,
   "id": "6389d349",
   "metadata": {},
   "outputs": [
    {
     "data": {
      "image/png": "[encoded data removed]",
      "text/plain": [
       "<Figure size 432x288 with 1 Axes>"
      ]
     },
     "metadata": {
      "needs_background": "light"
     },
     "output_type": "display_data"
    }
   ],
   "source": [
    "#And what feature was the most important?\n",
    "xgb.plot_importance(classifier)\n",
    "plt.show()"
   ]
  },
  {
   "cell_type": "code",
   "execution_count": 767,
   "id": "9ac2091d",
   "metadata": {},
   "outputs": [],
   "source": [
    "#Tasty. TEST\n",
    "df_test = pd.read_csv('pokemon_validation.csv',names=columns)\n",
    "X_test = df_test.iloc[:,1:]\n",
    "result = classifier.predict(X_test)\n",
    "df_test['Predicted Tier'] = result"
   ]
  },
  {
   "cell_type": "code",
   "execution_count": 786,
   "id": "88ffb4ce",
   "metadata": {},
   "outputs": [
    {
     "data": {
      "image/png": "[encoded data removed]",
      "text/plain": [
       "<Figure size 432x288 with 1 Axes>"
      ]
     },
     "metadata": {
      "needs_background": "light"
     },
     "output_type": "display_data"
    }
   ],
   "source": [
    "# You wont see a shit here. But its the predicted and actual tiers for the values\n",
    "plt.figure()\n",
    "plt.scatter(df_test.index,df_test['Tier'],label='Actual')\n",
    "plt.scatter(df_test.index,df_test['Predicted Tier'],label='Predicted',marker='^')\n",
    "plt.legend(loc=4)\n",
    "plt.yticks([0,1,2,3,4,5,6])\n",
    "plt.xlabel('Sample')\n",
    "plt.ylabel('Class')\n",
    "plt.show()"
   ]
  },
  {
   "cell_type": "code",
   "execution_count": 769,
   "id": "ead92041",
   "metadata": {},
   "outputs": [],
   "source": [
    "# Reference: \n",
    "# https://scikit-learn.org/stable/auto_examples/model_selection/plot_confusion_matrix.html\n",
    "def plot_confusion_matrix(cm, classes,\n",
    "                          normalize=False,\n",
    "                          title='Confusion matrix',\n",
    "                          cmap=plt.cm.Blues):\n",
    "    \"\"\"\n",
    "    This function prints and plots the confusion matrix.\n",
    "    Normalization can be applied by setting `normalize=True`.\n",
    "    \"\"\"\n",
    "    if normalize:\n",
    "        cm = cm.astype('float') / cm.sum(axis=1)[:, np.newaxis]\n",
    "        #print(\"Normalized confusion matrix\")\n",
    "    #else:\n",
    "    #    print('Confusion matrix, without normalization')\n",
    "\n",
    "    #print(cm)\n",
    "\n",
    "    plt.imshow(cm, interpolation='nearest', cmap=cmap)\n",
    "    plt.title(title)\n",
    "    plt.colorbar()\n",
    "    tick_marks = np.arange(len(classes))\n",
    "    plt.xticks(tick_marks, classes, rotation=45)\n",
    "    plt.yticks(tick_marks, classes)\n",
    "\n",
    "    fmt = '.2f' if normalize else 'd'\n",
    "    thresh = cm.max() / 2.\n",
    "    for i, j in itertools.product(range(cm.shape[0]), range(cm.shape[1])):\n",
    "        plt.text(j, i, format(cm[i, j], fmt),\n",
    "                 horizontalalignment=\"center\",\n",
    "                 color=\"white\" if cm[i, j] > thresh else \"black\")\n",
    "\n",
    "    plt.ylabel('True label')\n",
    "    plt.xlabel('Predicted label')\n",
    "    plt.tight_layout()"
   ]
  },
  {
   "cell_type": "code",
   "execution_count": 771,
   "id": "b746614f",
   "metadata": {},
   "outputs": [],
   "source": [
    "# Compute confusion matrix\n",
    "cnf_matrix = confusion_matrix(df_test['Tier'],\n",
    "                              df_test['Predicted Tier'],labels=[0,1,2,3,4,5,6])"
   ]
  },
  {
   "cell_type": "code",
   "execution_count": 772,
   "id": "09ef06e7",
   "metadata": {},
   "outputs": [
    {
     "data": {
      "image/png": "[encoded data removed]",
      "text/plain": [
       "<Figure size 432x288 with 2 Axes>"
      ]
     },
     "metadata": {
      "needs_background": "light"
     },
     "output_type": "display_data"
    }
   ],
   "source": [
    "# Plot confusion matrix\n",
    "plt.figure()\n",
    "plot_confusion_matrix(cnf_matrix, classes=d['Tier'].classes_,\n",
    "                      title='Confusion matrix - Count')"
   ]
  },
  {
   "cell_type": "code",
   "execution_count": 787,
   "id": "bfc418ff",
   "metadata": {},
   "outputs": [
    {
     "name": "stdout",
     "output_type": "stream",
     "text": [
      "              precision    recall  f1-score   support\n",
      "\n",
      "          LC       0.90      0.91      0.90        77\n",
      "          NU       0.00      0.00      0.00        16\n",
      "          OU       0.31      0.24      0.27        17\n",
      "          PU       0.50      0.75      0.60        69\n",
      "          RU       0.10      0.03      0.05        30\n",
      "          UU       0.20      0.12      0.15        26\n",
      "        Uber       0.33      0.50      0.40        10\n",
      "\n",
      "   micro avg       0.55      0.55      0.55       245\n",
      "   macro avg       0.21      0.23      0.22       245\n",
      "weighted avg       0.49      0.55      0.51       245\n",
      "\n"
     ]
    },
    {
     "name": "stderr",
     "output_type": "stream",
     "text": [
      "C:\\Users\\germa\\anaconda3\\lib\\site-packages\\sklearn\\metrics\\_classification.py:1986: UserWarning: labels size, 11, does not match size of target_names, 7\n",
      "  warnings.warn(\n",
      "C:\\Users\\germa\\anaconda3\\lib\\site-packages\\sklearn\\metrics\\_classification.py:1248: UndefinedMetricWarning: Precision and F-score are ill-defined and being set to 0.0 in labels with no predicted samples. Use `zero_division` parameter to control this behavior.\n",
      "  _warn_prf(average, modifier, msg_start, len(result))\n",
      "C:\\Users\\germa\\anaconda3\\lib\\site-packages\\sklearn\\metrics\\_classification.py:1248: UndefinedMetricWarning: Recall and F-score are ill-defined and being set to 0.0 in labels with no true samples. Use `zero_division` parameter to control this behavior.\n",
      "  _warn_prf(average, modifier, msg_start, len(result))\n",
      "C:\\Users\\germa\\anaconda3\\lib\\site-packages\\sklearn\\metrics\\_classification.py:1248: UndefinedMetricWarning: Precision and F-score are ill-defined and being set to 0.0 in labels with no predicted samples. Use `zero_division` parameter to control this behavior.\n",
      "  _warn_prf(average, modifier, msg_start, len(result))\n",
      "C:\\Users\\germa\\anaconda3\\lib\\site-packages\\sklearn\\metrics\\_classification.py:1248: UndefinedMetricWarning: Recall and F-score are ill-defined and being set to 0.0 in labels with no true samples. Use `zero_division` parameter to control this behavior.\n",
      "  _warn_prf(average, modifier, msg_start, len(result))\n",
      "C:\\Users\\germa\\anaconda3\\lib\\site-packages\\sklearn\\metrics\\_classification.py:1248: UndefinedMetricWarning: Precision and F-score are ill-defined and being set to 0.0 in labels with no predicted samples. Use `zero_division` parameter to control this behavior.\n",
      "  _warn_prf(average, modifier, msg_start, len(result))\n",
      "C:\\Users\\germa\\anaconda3\\lib\\site-packages\\sklearn\\metrics\\_classification.py:1248: UndefinedMetricWarning: Recall and F-score are ill-defined and being set to 0.0 in labels with no true samples. Use `zero_division` parameter to control this behavior.\n",
      "  _warn_prf(average, modifier, msg_start, len(result))\n"
     ]
    }
   ],
   "source": [
    "#Well, here are the results\n",
    "print(classification_report(\n",
    "    df_test['Tier'],\n",
    "    df_test['Predicted Tier'],\n",
    "    labels=[0,1,2,3,4,5,6,7,8,9,10],\n",
    "    target_names=d['Tier'].classes_))"
   ]
  },
  {
   "cell_type": "markdown",
   "id": "572cf59a",
   "metadata": {},
   "source": [
    "So, what have we learned?\n",
    "Stats and types are not enough information for training. Maybe with moves and other stats this can works better. But maybe the competitive its more than only stats and weaknesses.\n",
    "I don't know. Do yourself a favor and dont play competitive pokemon"
   ]
  },
  {
   "cell_type": "code",
   "execution_count": null,
   "id": "88744938",
   "metadata": {},
   "outputs": [],
   "source": []
  }
 ],
 "metadata": {
  "kernelspec": {
   "display_name": "Python 3 (ipykernel)",
   "language": "python",
   "name": "python3"
  },
  "language_info": {
   "codemirror_mode": {
    "name": "ipython",
    "version": 3
   },
   "file_extension": ".py",
   "mimetype": "text/x-python",
   "name": "python",
   "nbconvert_exporter": "python",
   "pygments_lexer": "ipython3",
   "version": "3.9.7"
  }
 },
 "nbformat": 4,
 "nbformat_minor": 5
}
